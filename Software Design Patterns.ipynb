{
 "cells": [
  {
   "cell_type": "markdown",
   "id": "70c246eb-1229-4f0c-909d-e66f71b625a9",
   "metadata": {
    "jp-MarkdownHeadingCollapsed": true,
    "tags": []
   },
   "source": [
    "# I. Creational Design Patterns"
   ]
  },
  {
   "cell_type": "markdown",
   "id": "59a90d3f-8fc6-42ad-9267-eb11b93dc3cc",
   "metadata": {
    "jp-MarkdownHeadingCollapsed": true,
    "tags": []
   },
   "source": [
    "## 1. Singleton"
   ]
  },
  {
   "cell_type": "code",
   "execution_count": 4,
   "id": "72f09c1a-5a3d-4fe8-b2b9-60381655fc30",
   "metadata": {
    "tags": []
   },
   "outputs": [
    {
     "name": "stdout",
     "output_type": "stream",
     "text": [
      "True\n"
     ]
    }
   ],
   "source": [
    "class MilkBase:\n",
    "    _instance = None\n",
    "    \n",
    "    def __new__(cls):\n",
    "        if cls._instance is None:\n",
    "            cls._instance = super().__new__(cls)\n",
    "        return cls._instance\n",
    "    \n",
    "m1 = MilkBase()\n",
    "m2 = MilkBase()\n",
    "print(m1 is m2)"
   ]
  },
  {
   "cell_type": "markdown",
   "id": "517e5f3b-d992-4f64-984d-b5a11b2d6f5b",
   "metadata": {
    "jp-MarkdownHeadingCollapsed": true,
    "tags": []
   },
   "source": [
    "## 2. Factory"
   ]
  },
  {
   "cell_type": "code",
   "execution_count": 7,
   "id": "ae13e065-bab2-49dc-9e01-463e31f25926",
   "metadata": {
    "tags": []
   },
   "outputs": [
    {
     "name": "stdout",
     "output_type": "stream",
     "text": [
      "Haw!\n",
      "Meow!\n"
     ]
    }
   ],
   "source": [
    "from abc import ABC, abstractmethod\n",
    "\n",
    "class Animal(ABC):\n",
    "    @abstractmethod\n",
    "    def speak(self):\n",
    "        pass\n",
    "\n",
    "class Cat(Animal):\n",
    "    def speak(self):\n",
    "        print(\"Meow!\")\n",
    "\n",
    "class Dog(Animal):\n",
    "    def speak(self):\n",
    "        print(\"Haw!\")\n",
    "\n",
    "class AnimalFactory:\n",
    "    def create_animal(self, animal_type):\n",
    "        if animal_type == \"cat\":\n",
    "            return Cat()\n",
    "        elif animal_type == \"dog\":\n",
    "            return Dog()\n",
    "        else:\n",
    "            raise ValueError(\"invalid animal type\")\n",
    "\n",
    "animal_factory = AnimalFactory()\n",
    "\n",
    "dog = animal_factory.create_animal(\"dog\")\n",
    "dog.speak()\n",
    "\n",
    "cat = animal_factory.create_animal(\"cat\")\n",
    "cat.speak() "
   ]
  },
  {
   "cell_type": "markdown",
   "id": "0d264c72-051d-4dbb-9276-9a89747f47df",
   "metadata": {
    "jp-MarkdownHeadingCollapsed": true,
    "tags": []
   },
   "source": [
    "## 3. Abstract Factory"
   ]
  },
  {
   "cell_type": "code",
   "execution_count": 10,
   "id": "e9936139-e1af-4953-916a-213c8f2defc6",
   "metadata": {
    "tags": []
   },
   "outputs": [
    {
     "name": "stdout",
     "output_type": "stream",
     "text": [
      "it is circle and 2-dimensional\n",
      "it is sphere and 3-dimensional\n"
     ]
    }
   ],
   "source": [
    "from abc import ABC, abstractmethod\n",
    "\n",
    "class Shape(ABC):\n",
    "    @abstractmethod\n",
    "    def info(self):\n",
    "        pass\n",
    "\n",
    "class Circle(Shape):\n",
    "    def info(self):\n",
    "        return \"it is circle and 2-dimensional\"\n",
    "\n",
    "class Sphere(Shape):\n",
    "    def info(self):\n",
    "        return \"it is sphere and 3-dimensional\"\n",
    "\n",
    "class AbstractFactory(ABC):\n",
    "    @abstractmethod\n",
    "    def create_figure(self):\n",
    "        pass\n",
    "\n",
    "class TwoDimensional(AbstractFactory):\n",
    "    def create_figure(self):\n",
    "        return Circle()\n",
    "\n",
    "class ThreeDimensional(AbstractFactory):\n",
    "    def create_figure(self):\n",
    "        return Sphere()\n",
    "\n",
    "factory = TwoDimensional()\n",
    "two = factory.create_figure()\n",
    "\n",
    "factory = ThreeDimensional()\n",
    "three = factory.create_figure()\n",
    "\n",
    "print(two.info())\n",
    "print(three.info())"
   ]
  },
  {
   "cell_type": "markdown",
   "id": "3936b5ff-46ae-4345-b6b3-b72f65177a0b",
   "metadata": {
    "jp-MarkdownHeadingCollapsed": true,
    "tags": []
   },
   "source": [
    "## 4. Builder"
   ]
  },
  {
   "cell_type": "code",
   "execution_count": 12,
   "id": "07af3dfe-e92b-4f94-b296-d9c21b85b408",
   "metadata": {
    "tags": []
   },
   "outputs": [
    {
     "name": "stdout",
     "output_type": "stream",
     "text": [
      "Computer - Case: ATX Tower, Motherboard: ASUS ROG Strix Z390, CPU: Intel Core i9, RAM: 32GB, Storage: 1TB SSD, GPU: NVIDIA GeForce RTX 3080\n"
     ]
    }
   ],
   "source": [
    "# Product class\n",
    "class Computer:\n",
    "    def __init__(self, case, motherboard, cpu=None, ram=None, storage=None, gpu=None):\n",
    "        self.case = case\n",
    "        self.motherboard = motherboard\n",
    "        self.cpu = cpu\n",
    "        self.ram = ram\n",
    "        self.storage = storage\n",
    "        self.gpu = gpu\n",
    "\n",
    "    def __str__(self):\n",
    "        return f\"Computer - Case: {self.case}, Motherboard: {self.motherboard}, CPU: {self.cpu}, RAM: {self.ram}, Storage: {self.storage}, GPU: {self.gpu}\"\n",
    "\n",
    "# Builder interface\n",
    "class ComputerBuilder:\n",
    "    def __init__(self, case, motherboard):\n",
    "        self.computer = Computer(case, motherboard)\n",
    "\n",
    "    def add_cpu(self, cpu):\n",
    "        self.computer.cpu = cpu\n",
    "\n",
    "    def add_ram(self, ram):\n",
    "        self.computer.ram = ram\n",
    "\n",
    "    def add_storage(self, storage):\n",
    "        self.computer.storage = storage\n",
    "\n",
    "    def add_gpu(self, gpu):\n",
    "        self.computer.gpu = gpu\n",
    "\n",
    "    def build(self):\n",
    "        return self.computer\n",
    "\n",
    "# Director class (optional)\n",
    "class Director:\n",
    "    def construct_high_end_computer(self, builder):\n",
    "        builder.add_cpu(\"Intel Core i9\")\n",
    "        builder.add_ram(\"32GB\")\n",
    "        builder.add_storage(\"1TB SSD\")\n",
    "        builder.add_gpu(\"NVIDIA GeForce RTX 3080\")\n",
    "\n",
    "director = Director()\n",
    "high_end_builder = ComputerBuilder(\"ATX Tower\", \"ASUS ROG Strix Z390\")\n",
    "director.construct_high_end_computer(high_end_builder)\n",
    "high_end_computer = high_end_builder.build()\n",
    "\n",
    "print(high_end_computer)  # Output: Computer - Case: ATX Tower, Motherboard: ASUS ROG Strix Z390, CPU: Intel Core i9, RAM: 32GB, Storage: 1TB SSD, GPU: NVIDIA GeForce RTX 3080"
   ]
  },
  {
   "cell_type": "markdown",
   "id": "eff0cdb4-963e-497a-a766-6dc1936ff0a6",
   "metadata": {
    "jp-MarkdownHeadingCollapsed": true,
    "tags": []
   },
   "source": [
    "## 5. Prototype"
   ]
  },
  {
   "cell_type": "code",
   "execution_count": 15,
   "id": "55777ae5-07d1-4356-b3a5-5c528cdfd976",
   "metadata": {
    "tags": []
   },
   "outputs": [
    {
     "name": "stdout",
     "output_type": "stream",
     "text": [
      "Car - Model: SUV, Color: Red\n",
      "Car - Model: Sedan, Color: Blue\n"
     ]
    }
   ],
   "source": [
    "import copy\n",
    "\n",
    "# Prototype class\n",
    "class Car:\n",
    "    def __init__(self, model, color):\n",
    "        self.model = model\n",
    "        self.color = color\n",
    "\n",
    "    def __str__(self):\n",
    "        return f\"Car - Model: {self.model}, Color: {self.color}\"\n",
    "\n",
    "    def clone(self):\n",
    "        return copy.deepcopy(self)  # Using deepcopy to create a deep copy of the object\n",
    "\n",
    "# Client code\n",
    "car_prototype = Car(\"SUV\", \"Black\")\n",
    "\n",
    "# Clone the prototype to create new instances\n",
    "car1 = car_prototype.clone()\n",
    "car1.color = \"Red\"\n",
    "\n",
    "car2 = car_prototype.clone()\n",
    "car2.model = \"Sedan\"\n",
    "car2.color = \"Blue\"\n",
    "\n",
    "print(car1)  # Output: Car - Model: SUV, Color: Red\n",
    "print(car2)  # Output: Car - Model: Sedan, Color: Blue\n"
   ]
  },
  {
   "cell_type": "markdown",
   "id": "1af1be78-9807-4ba3-b6ee-55613aa716a4",
   "metadata": {
    "jp-MarkdownHeadingCollapsed": true,
    "tags": []
   },
   "source": [
    "# II. Structural Design Patterns "
   ]
  },
  {
   "cell_type": "markdown",
   "id": "74990c07-1ef7-48b7-a34e-1beb27af1a50",
   "metadata": {
    "jp-MarkdownHeadingCollapsed": true,
    "tags": []
   },
   "source": [
    "## 1. Adapter"
   ]
  },
  {
   "cell_type": "code",
   "execution_count": 2,
   "id": "9df04a12-aaaf-4998-a498-df77ea362bd9",
   "metadata": {
    "tags": []
   },
   "outputs": [
    {
     "name": "stdout",
     "output_type": "stream",
     "text": [
      "Paying via PayPal Adapter:\n",
      "$100 sent via PayPal\n",
      "\n",
      "Paying via Stripe Adapter:\n",
      "$100 sent via Stripe\n"
     ]
    }
   ],
   "source": [
    "class PaymentGateway:\n",
    "    def pay(self, money):\n",
    "        pass\n",
    "\n",
    "class PayPal:\n",
    "    def make_payment(self, money):\n",
    "        print(f\"${money} sent via PayPal\")\n",
    "\n",
    "class Stripe:\n",
    "    def make_payment(self, money):\n",
    "        print(f\"${money} sent via Stripe\")\n",
    "        \n",
    "class PayPalAdapter(PaymentGateway):\n",
    "    def __init__(self, paypal):\n",
    "        self.paypal = paypal\n",
    "        \n",
    "    def pay(self, money):\n",
    "        self.paypal.make_payment(money)\n",
    "\n",
    "class StripeAdapter(PaymentGateway):\n",
    "    def __init__(self, stripe):\n",
    "        self.stripe = stripe\n",
    "        \n",
    "    def pay(self, money):\n",
    "        self.stripe.make_payment(money)\n",
    "\n",
    "if __name__ == \"__main__\":\n",
    "    paypal = PayPal()\n",
    "    paypal_adapter = PayPalAdapter(paypal)\n",
    "\n",
    "    stripe = Stripe()\n",
    "    stripe_adapter = StripeAdapter(stripe)\n",
    "\n",
    "    amount = 100\n",
    "\n",
    "    print(\"Paying via PayPal Adapter:\")\n",
    "    paypal_adapter.pay(amount)\n",
    "\n",
    "    print(\"\\nPaying via Stripe Adapter:\")\n",
    "    stripe_adapter.pay(amount)"
   ]
  },
  {
   "cell_type": "markdown",
   "id": "ed9b5a9e-1ffc-4ee8-9394-f706a434663a",
   "metadata": {
    "jp-MarkdownHeadingCollapsed": true,
    "tags": []
   },
   "source": [
    "## 2. Bridge"
   ]
  },
  {
   "cell_type": "code",
   "execution_count": 4,
   "id": "8950183b-0424-4d1d-9fb6-fce4d890ed36",
   "metadata": {
    "tags": []
   },
   "outputs": [
    {
     "name": "stdout",
     "output_type": "stream",
     "text": [
      "Applying Red color to the square.\n",
      "Applying Blue color to the circle.\n"
     ]
    }
   ],
   "source": [
    "# Abstraction\n",
    "class Shape:\n",
    "    def __init__(self, color):\n",
    "        self._color = color\n",
    "\n",
    "    def apply_color(self):\n",
    "        pass\n",
    "\n",
    "# Implementor\n",
    "class Color:\n",
    "    def apply_color(self):\n",
    "        pass\n",
    "\n",
    "# Concrete Implementors\n",
    "class RedColor(Color):\n",
    "    def apply_color(self):\n",
    "        return \"Red\"\n",
    "\n",
    "class BlueColor(Color):\n",
    "    def apply_color(self):\n",
    "        return \"Blue\"\n",
    "\n",
    "# Refined Abstraction\n",
    "class Square(Shape):\n",
    "    def apply_color(self):\n",
    "        return f\"Applying {self._color.apply_color()} color to the square.\"\n",
    "\n",
    "class Circle(Shape):\n",
    "    def apply_color(self):\n",
    "        return f\"Applying {self._color.apply_color()} color to the circle.\"\n",
    "\n",
    "# Client Code\n",
    "if __name__ == \"__main__\":\n",
    "    red_color = RedColor()\n",
    "    blue_color = BlueColor()\n",
    "\n",
    "    square = Square(red_color)\n",
    "    circle = Circle(blue_color)\n",
    "\n",
    "    print(square.apply_color())  # Output: Applying Red color to the square.\n",
    "    print(circle.apply_color())  # Output: Applying Blue color to the circle.\n"
   ]
  },
  {
   "cell_type": "markdown",
   "id": "514a9568-040a-4fa9-af2d-eec371d27b13",
   "metadata": {
    "jp-MarkdownHeadingCollapsed": true,
    "tags": []
   },
   "source": [
    "## 3. Composite"
   ]
  },
  {
   "cell_type": "code",
   "execution_count": 7,
   "id": "c3ea6e2f-0e05-4b1f-8b7f-6a069a4bb3a6",
   "metadata": {
    "tags": []
   },
   "outputs": [
    {
     "name": "stdout",
     "output_type": "stream",
     "text": [
      "Composite: Composite\n",
      "\tLeaf: Leaf 1\n",
      "\tLeaf: Leaf 2\n",
      "\tComposite: Sub-Composite\n",
      "\tLeaf: Leaf 3\n",
      "\n",
      "\n"
     ]
    }
   ],
   "source": [
    "# Component Interface\n",
    "class Component:\n",
    "    def __init__(self, name):\n",
    "        self.name = name\n",
    "\n",
    "    def display(self):\n",
    "        pass\n",
    "\n",
    "# Leaf Class\n",
    "class Leaf(Component):\n",
    "    def display(self):\n",
    "        return f\"Leaf: {self.name}\"\n",
    "\n",
    "# Composite Class\n",
    "class Composite(Component):\n",
    "    def __init__(self, name):\n",
    "        super().__init__(name)\n",
    "        self.children = []\n",
    "\n",
    "    def add(self, component):\n",
    "        self.children.append(component)\n",
    "\n",
    "    def remove(self, component):\n",
    "        self.children.remove(component)\n",
    "\n",
    "    def display(self):\n",
    "        result = f\"Composite: {self.name}\\n\"\n",
    "        for child in self.children:\n",
    "            result += f\"\\t{child.display()}\\n\"\n",
    "        return result\n",
    "\n",
    "# Client Code\n",
    "if __name__ == \"__main__\":\n",
    "    leaf1 = Leaf(\"Leaf 1\")\n",
    "    leaf2 = Leaf(\"Leaf 2\")\n",
    "    leaf3 = Leaf(\"Leaf 3\")\n",
    "\n",
    "    composite = Composite(\"Composite\")\n",
    "    composite.add(leaf1)\n",
    "    composite.add(leaf2)\n",
    "\n",
    "    sub_composite = Composite(\"Sub-Composite\")\n",
    "    sub_composite.add(leaf3)\n",
    "\n",
    "    composite.add(sub_composite)\n",
    "\n",
    "    # Displaying the structure\n",
    "    print(composite.display())"
   ]
  },
  {
   "cell_type": "markdown",
   "id": "b4bb3b74-36cd-4828-8716-79764b2d2ac0",
   "metadata": {
    "jp-MarkdownHeadingCollapsed": true,
    "tags": []
   },
   "source": [
    "## 4. Decorator"
   ]
  },
  {
   "cell_type": "code",
   "execution_count": 9,
   "id": "fcc15b7c-f083-4ef4-8f99-5554dc65171e",
   "metadata": {
    "tags": []
   },
   "outputs": [
    {
     "name": "stdout",
     "output_type": "stream",
     "text": [
      "Cost: $5, Description: Simple coffee\n",
      "Cost: $7, Description: Simple coffee, with milk\n",
      "Cost: $8, Description: Simple coffee, with milk, with sugar\n"
     ]
    }
   ],
   "source": [
    "# Component Interface\n",
    "class Coffee:\n",
    "    def cost(self):\n",
    "        pass\n",
    "\n",
    "    def description(self):\n",
    "        pass\n",
    "\n",
    "# Concrete Component\n",
    "class SimpleCoffee(Coffee):\n",
    "    def cost(self):\n",
    "        return 5  # Base cost of simple coffee\n",
    "\n",
    "    def description(self):\n",
    "        return \"Simple coffee\"\n",
    "\n",
    "# Decorator Class\n",
    "class CoffeeDecorator(Coffee):\n",
    "    def __init__(self, coffee):\n",
    "        self._coffee = coffee\n",
    "\n",
    "    def cost(self):\n",
    "        return self._coffee.cost()\n",
    "\n",
    "    def description(self):\n",
    "        return self._coffee.description()\n",
    "\n",
    "# Concrete Decorators\n",
    "class Milk(CoffeeDecorator):\n",
    "    def __init__(self, coffee):\n",
    "        super().__init__(coffee)\n",
    "\n",
    "    def cost(self):\n",
    "        return self._coffee.cost() + 2  # Additional cost for milk\n",
    "\n",
    "    def description(self):\n",
    "        return self._coffee.description() + \", with milk\"\n",
    "\n",
    "class Sugar(CoffeeDecorator):\n",
    "    def __init__(self, coffee):\n",
    "        super().__init__(coffee)\n",
    "\n",
    "    def cost(self):\n",
    "        return self._coffee.cost() + 1  # Additional cost for sugar\n",
    "\n",
    "    def description(self):\n",
    "        return self._coffee.description() + \", with sugar\"\n",
    "\n",
    "# Client Code\n",
    "if __name__ == \"__main__\":\n",
    "    simple_coffee = SimpleCoffee()\n",
    "    print(f\"Cost: ${simple_coffee.cost()}, Description: {simple_coffee.description()}\")\n",
    "\n",
    "    milk_coffee = Milk(simple_coffee)\n",
    "    print(f\"Cost: ${milk_coffee.cost()}, Description: {milk_coffee.description()}\")\n",
    "\n",
    "    sugar_milk_coffee = Sugar(milk_coffee)\n",
    "    print(f\"Cost: ${sugar_milk_coffee.cost()}, Description: {sugar_milk_coffee.description()}\")"
   ]
  },
  {
   "cell_type": "markdown",
   "id": "90ab21d2-bcb6-478e-8188-1a36108c55ee",
   "metadata": {
    "jp-MarkdownHeadingCollapsed": true,
    "tags": []
   },
   "source": [
    "## 5. Facade"
   ]
  },
  {
   "cell_type": "code",
   "execution_count": 11,
   "id": "5e72df88-831a-43aa-bb7f-e7e4cc249f6d",
   "metadata": {
    "tags": []
   },
   "outputs": [
    {
     "name": "stdout",
     "output_type": "stream",
     "text": [
      "Starting computer:\n",
      "CPU is frozen\n",
      "Loaded 'BOOT_ADDRESS' into memory at position 0\n",
      "Jumping to position 0 in CPU\n",
      "CPU execution started\n",
      "\n",
      "Reading data from hard drive:\n",
      "Reading '1024' bytes from sector 100 of hard drive\n"
     ]
    }
   ],
   "source": [
    "# Subsystems\n",
    "class CPU:\n",
    "    def freeze(self):\n",
    "        return \"CPU is frozen\"\n",
    "\n",
    "    def jump(self, position):\n",
    "        return f\"Jumping to position {position} in CPU\"\n",
    "\n",
    "    def execute(self):\n",
    "        return \"CPU execution started\"\n",
    "\n",
    "class Memory:\n",
    "    def load(self, position, data):\n",
    "        return f\"Loaded '{data}' into memory at position {position}\"\n",
    "\n",
    "class HardDrive:\n",
    "    def read(self, lba, size):\n",
    "        return f\"Reading '{size}' bytes from sector {lba} of hard drive\"\n",
    "\n",
    "# Facade\n",
    "class ComputerFacade:\n",
    "    def __init__(self):\n",
    "        self.cpu = CPU()\n",
    "        self.memory = Memory()\n",
    "        self.hard_drive = HardDrive()\n",
    "\n",
    "    def start(self):\n",
    "        result = [self.cpu.freeze(), self.memory.load(0, \"BOOT_ADDRESS\"), self.cpu.jump(0), self.cpu.execute()]\n",
    "        return \"\\n\".join(result)\n",
    "\n",
    "    def read_data(self, lba, size):\n",
    "        return self.hard_drive.read(lba, size)\n",
    "\n",
    "# Client Code\n",
    "if __name__ == \"__main__\":\n",
    "    computer = ComputerFacade()\n",
    "\n",
    "    print(\"Starting computer:\")\n",
    "    print(computer.start())\n",
    "\n",
    "    print(\"\\nReading data from hard drive:\")\n",
    "    print(computer.read_data(100, 1024))"
   ]
  },
  {
   "cell_type": "markdown",
   "id": "97ecac57-168b-4c9c-8a33-df9217293809",
   "metadata": {
    "jp-MarkdownHeadingCollapsed": true,
    "tags": []
   },
   "source": [
    "## 6. Proxy"
   ]
  },
  {
   "cell_type": "code",
   "execution_count": 14,
   "id": "83e7501d-9ae9-4841-9ef8-2018d010e8ce",
   "metadata": {
    "tags": []
   },
   "outputs": [
    {
     "name": "stdout",
     "output_type": "stream",
     "text": [
      "Proxy: Checking access before handling the request.\n",
      "RealSubject: Handling the request.\n",
      "Proxy: Checking access before handling the request.\n",
      "RealSubject: Handling the request.\n"
     ]
    }
   ],
   "source": [
    "# Subject Interface\n",
    "class Subject:\n",
    "    def request(self):\n",
    "        pass\n",
    "\n",
    "# Real Subject\n",
    "class RealSubject(Subject):\n",
    "    def request(self):\n",
    "        print(\"RealSubject: Handling the request.\")\n",
    "\n",
    "# Proxy\n",
    "class Proxy(Subject):\n",
    "    def __init__(self):\n",
    "        self._real_subject = None\n",
    "\n",
    "    def request(self):\n",
    "        if not self._real_subject:\n",
    "            self._real_subject = RealSubject()\n",
    "        print(\"Proxy: Checking access before handling the request.\")\n",
    "        self._real_subject.request()\n",
    "\n",
    "# Client Code\n",
    "if __name__ == \"__main__\":\n",
    "    proxy = Proxy()\n",
    "\n",
    "    # The client interacts with the proxy object\n",
    "    proxy.request()\n",
    "\n",
    "    # If the request is made again, the real subject is not recreated\n",
    "    proxy.request()"
   ]
  },
  {
   "cell_type": "markdown",
   "id": "9c14ad3d-97f3-4103-a367-fcd9c84dffdd",
   "metadata": {
    "jp-MarkdownHeadingCollapsed": true,
    "tags": []
   },
   "source": [
    "## 7. Flyweight"
   ]
  },
  {
   "cell_type": "code",
   "execution_count": 17,
   "id": "1823084c-add5-438a-a03e-69b7480f148c",
   "metadata": {
    "tags": []
   },
   "outputs": [
    {
     "name": "stdout",
     "output_type": "stream",
     "text": [
      "Tree: Oak, Color: Green\n",
      "Tree: Pine, Color: Green\n",
      "Tree: Oak, Color: Green\n"
     ]
    }
   ],
   "source": [
    "class Tree:\n",
    "    def __init__(self, name, color):\n",
    "        self.name = name\n",
    "        self.color = color\n",
    "\n",
    "    def render(self):\n",
    "        return f\"Tree: {self.name}, Color: {self.color}\"\n",
    "\n",
    "class TreeFactory:\n",
    "    _tree_types = {}\n",
    "\n",
    "    @staticmethod\n",
    "    def get_tree_type(name, color):\n",
    "        if (name, color) not in TreeFactory._tree_types:\n",
    "            TreeFactory._tree_types[(name, color)] = Tree(name, color)\n",
    "        return TreeFactory._tree_types[(name, color)]\n",
    "\n",
    "# Usage\n",
    "if __name__ == \"__main__\":\n",
    "    tree1 = TreeFactory.get_tree_type(\"Oak\", \"Green\")\n",
    "    tree2 = TreeFactory.get_tree_type(\"Pine\", \"Green\")\n",
    "    tree3 = TreeFactory.get_tree_type(\"Oak\", \"Green\")  # Reusing existing Tree\n",
    "\n",
    "    print(tree1.render())  # Output: Tree: Oak, Color: Green\n",
    "    print(tree2.render())  # Output: Tree: Pine, Color: Green\n",
    "    print(tree3.render())  # Output: Tree: Oak, Color: Green"
   ]
  },
  {
   "cell_type": "markdown",
   "id": "254b6854-0f7a-4850-aa64-9584c98d2ca9",
   "metadata": {
    "jp-MarkdownHeadingCollapsed": true,
    "tags": []
   },
   "source": [
    "# III. Behavioral Design Patterns"
   ]
  },
  {
   "cell_type": "markdown",
   "id": "b9024ef1-e26f-40c4-b9d4-3fa39c5277f2",
   "metadata": {},
   "source": [
    "## 1. Visitor"
   ]
  },
  {
   "cell_type": "code",
   "execution_count": 1,
   "id": "a5a7cfcd-46f4-4081-b4e3-92d7d64c47a9",
   "metadata": {
    "tags": []
   },
   "outputs": [
    {
     "name": "stdout",
     "output_type": "stream",
     "text": [
      "Area of circle: 78.50\n",
      "Perimeter of circle: 31.40\n",
      "Area of rectangle: 24.00\n",
      "Perimeter of rectangle: 20.00\n"
     ]
    }
   ],
   "source": [
    "# Define the Visitor interface\n",
    "class ShapeVisitor:\n",
    "    def visit_circle(self, circle):\n",
    "        pass\n",
    "\n",
    "    def visit_rectangle(self, rectangle):\n",
    "        pass\n",
    "\n",
    "# Define concrete shapes\n",
    "class Circle:\n",
    "    def __init__(self, radius):\n",
    "        self.radius = radius\n",
    "\n",
    "    def accept(self, visitor):\n",
    "        visitor.visit_circle(self)\n",
    "\n",
    "class Rectangle:\n",
    "    def __init__(self, width, height):\n",
    "        self.width = width\n",
    "        self.height = height\n",
    "\n",
    "    def accept(self, visitor):\n",
    "        visitor.visit_rectangle(self)\n",
    "\n",
    "# Define concrete visitors implementing operations on shapes\n",
    "class AreaVisitor(ShapeVisitor):\n",
    "    def visit_circle(self, circle):\n",
    "        area = 3.14 * circle.radius * circle.radius\n",
    "        print(f\"Area of circle: {area:.2f}\")\n",
    "\n",
    "    def visit_rectangle(self, rectangle):\n",
    "        area = rectangle.width * rectangle.height\n",
    "        print(f\"Area of rectangle: {area:.2f}\")\n",
    "\n",
    "class PerimeterVisitor(ShapeVisitor):\n",
    "    def visit_circle(self, circle):\n",
    "        perimeter = 2 * 3.14 * circle.radius\n",
    "        print(f\"Perimeter of circle: {perimeter:.2f}\")\n",
    "\n",
    "    def visit_rectangle(self, rectangle):\n",
    "        perimeter = 2 * (rectangle.width + rectangle.height)\n",
    "        print(f\"Perimeter of rectangle: {perimeter:.2f}\")\n",
    "\n",
    "# Usage\n",
    "if __name__ == \"__main__\":\n",
    "    shapes = [Circle(5), Rectangle(4, 6)]\n",
    "\n",
    "    area_visitor = AreaVisitor()\n",
    "    perimeter_visitor = PerimeterVisitor()\n",
    "\n",
    "    for shape in shapes:\n",
    "        shape.accept(area_visitor)\n",
    "        shape.accept(perimeter_visitor)"
   ]
  },
  {
   "cell_type": "markdown",
   "id": "310871ba-649a-4aba-9236-24a7a58c3c06",
   "metadata": {},
   "source": [
    "## 2. Template Method"
   ]
  },
  {
   "cell_type": "code",
   "execution_count": 2,
   "id": "cbe42143-0dda-435c-a5aa-1f83792fa159",
   "metadata": {
    "tags": []
   },
   "outputs": [
    {
     "name": "stdout",
     "output_type": "stream",
     "text": [
      "Default implementation of base_operation1\n",
      "Implementation of required_operation1 in ConcreteClass\n",
      "Default implementation of base_operation2\n",
      "Overridden hook method in ConcreteClass\n"
     ]
    }
   ],
   "source": [
    "from abc import ABC, abstractmethod\n",
    "\n",
    "# Abstract class defining the template method\n",
    "class AbstractClass(ABC):\n",
    "    def template_method(self):\n",
    "        self.base_operation1()\n",
    "        self.required_operation1()\n",
    "        self.base_operation2()\n",
    "        self.hook()\n",
    "\n",
    "    # Abstract operations to be defined by subclasses\n",
    "    @abstractmethod\n",
    "    def required_operation1(self):\n",
    "        pass\n",
    "\n",
    "    # Base operations with default implementation\n",
    "    def base_operation1(self):\n",
    "        print(\"Default implementation of base_operation1\")\n",
    "\n",
    "    def base_operation2(self):\n",
    "        print(\"Default implementation of base_operation2\")\n",
    "\n",
    "    # Hook method with default empty implementation (optional to override)\n",
    "    def hook(self):\n",
    "        pass\n",
    "\n",
    "# Concrete class implementing the AbstractClass\n",
    "class ConcreteClass(AbstractClass):\n",
    "    def required_operation1(self):\n",
    "        print(\"Implementation of required_operation1 in ConcreteClass\")\n",
    "\n",
    "    def hook(self):\n",
    "        print(\"Overridden hook method in ConcreteClass\")\n",
    "\n",
    "# Usage\n",
    "if __name__ == \"__main__\":\n",
    "    concrete_object = ConcreteClass()\n",
    "    concrete_object.template_method()"
   ]
  },
  {
   "cell_type": "markdown",
   "id": "de952ba9-a7f8-49d7-a772-46f7dce94e82",
   "metadata": {},
   "source": [
    "## 3. Strategy"
   ]
  },
  {
   "cell_type": "code",
   "execution_count": 3,
   "id": "61fcc5a1-4b90-4ba0-b563-b0a468d37124",
   "metadata": {
    "tags": []
   },
   "outputs": [
    {
     "name": "stdout",
     "output_type": "stream",
     "text": [
      "Result of addition: 8\n",
      "Result of subtraction: 2\n",
      "Result of multiplication: 15\n"
     ]
    }
   ],
   "source": [
    "from abc import ABC, abstractmethod\n",
    "\n",
    "# Define the Strategy interface\n",
    "class Strategy(ABC):\n",
    "    @abstractmethod\n",
    "    def execute_strategy(self):\n",
    "        pass\n",
    "\n",
    "# Concrete strategy classes implementing different algorithms\n",
    "class ConcreteStrategyAdd(Strategy):\n",
    "    def execute_strategy(self, num1, num2):\n",
    "        return num1 + num2\n",
    "\n",
    "class ConcreteStrategySubtract(Strategy):\n",
    "    def execute_strategy(self, num1, num2):\n",
    "        return num1 - num2\n",
    "\n",
    "class ConcreteStrategyMultiply(Strategy):\n",
    "    def execute_strategy(self, num1, num2):\n",
    "        return num1 * num2\n",
    "\n",
    "# Context class that uses the selected strategy\n",
    "class Context:\n",
    "    def __init__(self, strategy):\n",
    "        self._strategy = strategy\n",
    "\n",
    "    def execute_operation(self, num1, num2):\n",
    "        return self._strategy.execute_strategy(num1, num2)\n",
    "\n",
    "# Usage\n",
    "if __name__ == \"__main__\":\n",
    "    # Creating different strategy objects\n",
    "    add_strategy = ConcreteStrategyAdd()\n",
    "    subtract_strategy = ConcreteStrategySubtract()\n",
    "    multiply_strategy = ConcreteStrategyMultiply()\n",
    "\n",
    "    # Using context with different strategies\n",
    "    context = Context(add_strategy)\n",
    "    result_add = context.execute_operation(5, 3)\n",
    "    print(f\"Result of addition: {result_add}\")\n",
    "\n",
    "    context = Context(subtract_strategy)\n",
    "    result_subtract = context.execute_operation(5, 3)\n",
    "    print(f\"Result of subtraction: {result_subtract}\")\n",
    "\n",
    "    context = Context(multiply_strategy)\n",
    "    result_multiply = context.execute_operation(5, 3)\n",
    "    print(f\"Result of multiplication: {result_multiply}\")"
   ]
  },
  {
   "cell_type": "markdown",
   "id": "8189fc27-6d64-4fad-b3b3-d0a795b814e5",
   "metadata": {},
   "source": [
    "## 4. State"
   ]
  },
  {
   "cell_type": "code",
   "execution_count": 4,
   "id": "bf303a34-d184-4cba-a2c3-9bb273e0fb90",
   "metadata": {
    "tags": []
   },
   "outputs": [
    {
     "name": "stdout",
     "output_type": "stream",
     "text": [
      "Handling state A\n",
      "Handling state B\n"
     ]
    }
   ],
   "source": [
    "from abc import ABC, abstractmethod\n",
    "\n",
    "# Interface defining the State\n",
    "class State(ABC):\n",
    "    @abstractmethod\n",
    "    def handle(self):\n",
    "        pass\n",
    "\n",
    "# Concrete states implementing different behaviors\n",
    "class ConcreteStateA(State):\n",
    "    def handle(self):\n",
    "        print(\"Handling state A\")\n",
    "        # Additional actions specific to state A, if any\n",
    "\n",
    "class ConcreteStateB(State):\n",
    "    def handle(self):\n",
    "        print(\"Handling state B\")\n",
    "        # Additional actions specific to state B, if any\n",
    "\n",
    "# Context class that maintains the current state\n",
    "class Context:\n",
    "    def __init__(self):\n",
    "        # Initial state\n",
    "        self._state = ConcreteStateA()\n",
    "\n",
    "    def change_state(self, state):\n",
    "        self._state = state\n",
    "\n",
    "    def request(self):\n",
    "        self._state.handle()\n",
    "\n",
    "# Usage\n",
    "if __name__ == \"__main__\":\n",
    "    # Create context object\n",
    "    context = Context()\n",
    "\n",
    "    # Request in initial state\n",
    "    context.request()\n",
    "\n",
    "    # Change state to B\n",
    "    state_b = ConcreteStateB()\n",
    "    context.change_state(state_b)\n",
    "\n",
    "    # Request in state B\n",
    "    context.request()"
   ]
  },
  {
   "cell_type": "markdown",
   "id": "ea320f4f-0636-4ead-92be-076ad8ada814",
   "metadata": {},
   "source": [
    "## 5. Observer"
   ]
  },
  {
   "cell_type": "code",
   "execution_count": 5,
   "id": "0a743a24-7cf3-4ef3-93b6-e174d021bd16",
   "metadata": {
    "tags": []
   },
   "outputs": [
    {
     "name": "stdout",
     "output_type": "stream",
     "text": [
      "Observer A: Subject's state changed to New State\n",
      "Observer B: Subject's state changed to New State\n"
     ]
    }
   ],
   "source": [
    "from abc import ABC, abstractmethod\n",
    "\n",
    "# Subject (Publisher) class\n",
    "class Subject:\n",
    "    def __init__(self):\n",
    "        self._observers = []\n",
    "\n",
    "    def attach(self, observer):\n",
    "        self._observers.append(observer)\n",
    "\n",
    "    def detach(self, observer):\n",
    "        self._observers.remove(observer)\n",
    "\n",
    "    def notify(self):\n",
    "        for observer in self._observers:\n",
    "            observer.update(self)\n",
    "\n",
    "    # Simulate state change\n",
    "    def state_change(self, new_state):\n",
    "        self._state = new_state\n",
    "        self.notify()\n",
    "\n",
    "    # Get state (optional)\n",
    "    def get_state(self):\n",
    "        return self._state\n",
    "\n",
    "# Observer (Subscriber) interface\n",
    "class Observer(ABC):\n",
    "    @abstractmethod\n",
    "    def update(self, subject):\n",
    "        pass\n",
    "\n",
    "# Concrete Observer classes\n",
    "class ConcreteObserverA(Observer):\n",
    "    def update(self, subject):\n",
    "        print(f\"Observer A: Subject's state changed to {subject.get_state()}\")\n",
    "\n",
    "class ConcreteObserverB(Observer):\n",
    "    def update(self, subject):\n",
    "        print(f\"Observer B: Subject's state changed to {subject.get_state()}\")\n",
    "\n",
    "# Usage\n",
    "if __name__ == \"__main__\":\n",
    "    # Create subject\n",
    "    subject = Subject()\n",
    "\n",
    "    # Create observers\n",
    "    observer_a = ConcreteObserverA()\n",
    "    observer_b = ConcreteObserverB()\n",
    "\n",
    "    # Attach observers to the subject\n",
    "    subject.attach(observer_a)\n",
    "    subject.attach(observer_b)\n",
    "\n",
    "    # Simulate state change\n",
    "    subject.state_change(\"New State\")"
   ]
  },
  {
   "cell_type": "markdown",
   "id": "0d6057f7-da47-4c57-adf8-06884ba6f0e8",
   "metadata": {},
   "source": [
    "## 6. Mediator"
   ]
  },
  {
   "cell_type": "code",
   "execution_count": 6,
   "id": "51a284dd-e7a8-45c5-b231-5df00c9bd3f2",
   "metadata": {
    "tags": []
   },
   "outputs": [
    {
     "name": "stdout",
     "output_type": "stream",
     "text": [
      "Component1 handles event.\n"
     ]
    }
   ],
   "source": [
    "# Mediator interface\n",
    "class Mediator:\n",
    "    def notify(self, sender, event):\n",
    "        pass\n",
    "\n",
    "# Concrete Mediator class\n",
    "class ConcreteMediator(Mediator):\n",
    "    def __init__(self):\n",
    "        self._component1 = Component1(self)\n",
    "        self._component2 = Component2(self)\n",
    "\n",
    "    def notify(self, sender, event):\n",
    "        if sender == self._component1:\n",
    "            print(\"Mediator reacts to Component1's event.\")\n",
    "            self._component2.handle_event()\n",
    "        elif sender == self._component2:\n",
    "            print(\"Mediator reacts to Component2's event.\")\n",
    "            self._component1.handle_event()\n",
    "\n",
    "# Components communicating through the mediator\n",
    "class BaseComponent:\n",
    "    def __init__(self, mediator):\n",
    "        self._mediator = mediator\n",
    "\n",
    "# Concrete components\n",
    "class Component1(BaseComponent):\n",
    "    def handle_event(self):\n",
    "        print(\"Component1 handles event.\")\n",
    "        self._mediator.notify(self, \"Event from Component1\")\n",
    "\n",
    "class Component2(BaseComponent):\n",
    "    def handle_event(self):\n",
    "        print(\"Component2 handles event.\")\n",
    "        self._mediator.notify(self, \"Event from Component2\")\n",
    "\n",
    "# Usage\n",
    "if __name__ == \"__main__\":\n",
    "    mediator = ConcreteMediator()\n",
    "\n",
    "    # Components initialized with the mediator\n",
    "    component1 = Component1(mediator)\n",
    "    component2 = Component2(mediator)\n",
    "\n",
    "    # Simulating an event from Component1 triggering interaction through the mediator\n",
    "    component1.handle_event()"
   ]
  },
  {
   "cell_type": "markdown",
   "id": "35c66515-09c0-4c65-b33e-ddaa7e47f739",
   "metadata": {},
   "source": [
    "## 7. Iterator"
   ]
  },
  {
   "cell_type": "code",
   "execution_count": 7,
   "id": "5341c9d0-b25e-4fe5-9dd9-b9e7e406c74d",
   "metadata": {
    "tags": []
   },
   "outputs": [
    {
     "name": "stdout",
     "output_type": "stream",
     "text": [
      "1\n",
      "2\n",
      "3\n",
      "4\n",
      "5\n"
     ]
    }
   ],
   "source": [
    "# Define an iterable object\n",
    "class MyIterable:\n",
    "    def __init__(self):\n",
    "        self._data = [1, 2, 3, 4, 5]\n",
    "\n",
    "    def __iter__(self):\n",
    "        return iter(self._data)  # Using built-in iter() function\n",
    "\n",
    "# Usage\n",
    "if __name__ == \"__main__\":\n",
    "    my_iterable = MyIterable()\n",
    "\n",
    "    # Get an iterator from the iterable\n",
    "    my_iterator = iter(my_iterable)\n",
    "\n",
    "    # Iterate through the elements using the iterator\n",
    "    try:\n",
    "        while True:\n",
    "            value = next(my_iterator)\n",
    "            print(value)\n",
    "    except StopIteration:\n",
    "        pass"
   ]
  },
  {
   "cell_type": "markdown",
   "id": "e3f39260-e22e-4452-9d37-4a0a289c905d",
   "metadata": {},
   "source": [
    "## 8. Command"
   ]
  },
  {
   "cell_type": "code",
   "execution_count": 8,
   "id": "afdb2df6-76a5-4779-8c06-d449ccef2b46",
   "metadata": {
    "tags": []
   },
   "outputs": [
    {
     "name": "stdout",
     "output_type": "stream",
     "text": [
      "Light is ON\n",
      "Light is OFF\n",
      "Invalid command\n"
     ]
    }
   ],
   "source": [
    "from abc import ABC, abstractmethod\n",
    "\n",
    "# Command interface\n",
    "class Command(ABC):\n",
    "    @abstractmethod\n",
    "    def execute(self):\n",
    "        pass\n",
    "\n",
    "# Concrete Command classes\n",
    "class LightOnCommand(Command):\n",
    "    def __init__(self, light):\n",
    "        self._light = light\n",
    "\n",
    "    def execute(self):\n",
    "        self._light.turn_on()\n",
    "\n",
    "class LightOffCommand(Command):\n",
    "    def __init__(self, light):\n",
    "        self._light = light\n",
    "\n",
    "    def execute(self):\n",
    "        self._light.turn_off()\n",
    "\n",
    "# Receiver class\n",
    "class Light:\n",
    "    def turn_on(self):\n",
    "        print(\"Light is ON\")\n",
    "\n",
    "    def turn_off(self):\n",
    "        print(\"Light is OFF\")\n",
    "\n",
    "# Invoker class\n",
    "class RemoteControl:\n",
    "    def __init__(self):\n",
    "        self._commands = {}\n",
    "\n",
    "    def set_command(self, slot, command):\n",
    "        self._commands[slot] = command\n",
    "\n",
    "    def press_button(self, slot):\n",
    "        if slot in self._commands:\n",
    "            self._commands[slot].execute()\n",
    "        else:\n",
    "            print(\"Invalid command\")\n",
    "\n",
    "# Usage\n",
    "if __name__ == \"__main__\":\n",
    "    # Creating receiver object\n",
    "    light = Light()\n",
    "\n",
    "    # Creating command objects\n",
    "    light_on = LightOnCommand(light)\n",
    "    light_off = LightOffCommand(light)\n",
    "\n",
    "    # Creating invoker object\n",
    "    remote = RemoteControl()\n",
    "\n",
    "    # Assigning commands to slots\n",
    "    remote.set_command(1, light_on)\n",
    "    remote.set_command(2, light_off)\n",
    "\n",
    "    # Pressing buttons to execute commands\n",
    "    remote.press_button(1)  # Turns on the light\n",
    "    remote.press_button(2)  # Turns off the light\n",
    "    remote.press_button(3)  # Invalid command"
   ]
  },
  {
   "cell_type": "markdown",
   "id": "21a1bc67-165c-4320-98a0-96600c7fa42a",
   "metadata": {},
   "source": [
    "## 9. Handler"
   ]
  },
  {
   "cell_type": "code",
   "execution_count": 9,
   "id": "81081f4f-215e-4ad8-81c9-631d9e44d4fc",
   "metadata": {
    "tags": []
   },
   "outputs": [
    {
     "name": "stdout",
     "output_type": "stream",
     "text": [
      "Handled by Handler 2\n",
      "Handled by Handler 3\n"
     ]
    }
   ],
   "source": [
    "class Handler:\n",
    "    def __init__(self, successor=None):\n",
    "        self.successor = successor\n",
    "\n",
    "    def handle_request(self, request):\n",
    "        handled = self.handle(request)\n",
    "        if not handled and self.successor:\n",
    "            self.successor.handle_request(request)\n",
    "\n",
    "    def handle(self, request):\n",
    "        raise NotImplementedError(\"Subclasses must implement this method.\")\n",
    "\n",
    "class ConcreteHandler1(Handler):\n",
    "    def handle(self, request):\n",
    "        if request == 'Handler1':\n",
    "            print(\"Handled by Handler 1\")\n",
    "            return True\n",
    "        else:\n",
    "            return False\n",
    "\n",
    "class ConcreteHandler2(Handler):\n",
    "    def handle(self, request):\n",
    "        if request == 'Handler2':\n",
    "            print(\"Handled by Handler 2\")\n",
    "            return True\n",
    "        else:\n",
    "            return False\n",
    "\n",
    "class ConcreteHandler3(Handler):\n",
    "    def handle(self, request):\n",
    "        if request == 'Handler3':\n",
    "            print(\"Handled by Handler 3\")\n",
    "            return True\n",
    "        else:\n",
    "            return False\n",
    "\n",
    "# Usage\n",
    "if __name__ == \"__main__\":\n",
    "    handler1 = ConcreteHandler1()\n",
    "    handler2 = ConcreteHandler2()\n",
    "    handler3 = ConcreteHandler3()\n",
    "\n",
    "    handler1.successor = handler2\n",
    "    handler2.successor = handler3\n",
    "\n",
    "    handler1.handle_request('Handler2')  # Handled by Handler 2\n",
    "    handler1.handle_request('Handler3')  # Handled by Handler 3\n",
    "    handler1.handle_request('Handler4')  # No handler found"
   ]
  },
  {
   "cell_type": "markdown",
   "id": "be97c953-6f15-442d-bd97-7f2bc1d260a6",
   "metadata": {},
   "source": [
    "## 10. Memento"
   ]
  },
  {
   "cell_type": "code",
   "execution_count": 10,
   "id": "65c7fb70-c72c-4526-a1e5-0b451376d0b7",
   "metadata": {
    "tags": []
   },
   "outputs": [
    {
     "name": "stdout",
     "output_type": "stream",
     "text": [
      "First version of the document\n"
     ]
    }
   ],
   "source": [
    "# Memento class\n",
    "class TextMemento:\n",
    "    def __init__(self, content):\n",
    "        self._content = content\n",
    "\n",
    "    def get_content(self):\n",
    "        return self._content\n",
    "\n",
    "# Originator class\n",
    "class TextEditor:\n",
    "    def __init__(self):\n",
    "        self._content = \"\"\n",
    "\n",
    "    def set_content(self, content):\n",
    "        self._content = content\n",
    "\n",
    "    def create_memento(self):\n",
    "        return TextMemento(self._content)\n",
    "\n",
    "    def restore_from_memento(self, memento):\n",
    "        self._content = memento.get_content()\n",
    "\n",
    "# Caretaker class\n",
    "class History:\n",
    "    def __init__(self):\n",
    "        self._mementos = []\n",
    "\n",
    "    def add_memento(self, memento):\n",
    "        self._mementos.append(memento)\n",
    "\n",
    "    def get_memento(self, index):\n",
    "        return self._mementos[index]\n",
    "\n",
    "# Usage\n",
    "if __name__ == \"__main__\":\n",
    "    text_editor = TextEditor()\n",
    "    history = History()\n",
    "\n",
    "    # User makes changes to the text\n",
    "    text_editor.set_content(\"First version of the document\")\n",
    "    history.add_memento(text_editor.create_memento())\n",
    "\n",
    "    text_editor.set_content(\"Modified document\")\n",
    "    history.add_memento(text_editor.create_memento())\n",
    "\n",
    "    # User decides to revert to the previous version\n",
    "    text_editor.restore_from_memento(history.get_memento(0))\n",
    "\n",
    "    print(text_editor._content)  # Output: First version of the document"
   ]
  },
  {
   "cell_type": "code",
   "execution_count": null,
   "id": "c8c617e7-df5b-4526-a58b-22b8389e991b",
   "metadata": {},
   "outputs": [],
   "source": []
  }
 ],
 "metadata": {
  "kernelspec": {
   "display_name": "Python 3 (ipykernel)",
   "language": "python",
   "name": "python3"
  },
  "language_info": {
   "codemirror_mode": {
    "name": "ipython",
    "version": 3
   },
   "file_extension": ".py",
   "mimetype": "text/x-python",
   "name": "python",
   "nbconvert_exporter": "python",
   "pygments_lexer": "ipython3",
   "version": "3.11.4"
  }
 },
 "nbformat": 4,
 "nbformat_minor": 5
}
